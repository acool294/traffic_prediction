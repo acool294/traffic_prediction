{
 "cells": [
  {
   "cell_type": "code",
   "execution_count": 1,
   "metadata": {},
   "outputs": [],
   "source": [
    "import pandas as pd\n",
    "import matplotlib.pyplot as plt\n",
    "import numpy as np"
   ]
  },
  {
   "cell_type": "code",
   "execution_count": 49,
   "metadata": {},
   "outputs": [],
   "source": [
    "output_df = pd.read_excel(\"Projections_Case Study.xlsx\",sheet_name = \"Traffic\")\n",
    "data_df = pd.read_excel(\"Projections_Case Study.xlsx\",sheet_name = \"Content Supply\")"
   ]
  },
  {
   "cell_type": "code",
   "execution_count": 50,
   "metadata": {},
   "outputs": [],
   "source": [
    "columns_to_delete = ['Tier 1 - Video', 'Tier 1 - Non Video','Tier 2  - Non Video','Tier 5 - Non Video','Tier 7 - Non Video']\n",
    "data_df.drop(columns=columns_to_delete,inplace = True)"
   ]
  },
  {
   "cell_type": "code",
   "execution_count": 51,
   "metadata": {},
   "outputs": [
    {
     "data": {
      "text/plain": [
       "Index(['Date no', 'Tier 2  - Video', 'Tier 3 - Video', 'Tier 4 - Video',\n",
       "       'Tier 5 - Video', 'Tier 6 - Video', 'Tier 7 - Video', 'Tier 8 - Video',\n",
       "       'Tier 9 - Video', 'Tier 3 - Non Video', 'Tier 4 - Non Video',\n",
       "       'Tier 6 - Non Video', 'Tier 8 - Non Video', 'Tier 9 - Non Video'],\n",
       "      dtype='object')"
      ]
     },
     "execution_count": 51,
     "metadata": {},
     "output_type": "execute_result"
    }
   ],
   "source": [
    "data_df.columns"
   ]
  },
  {
   "cell_type": "code",
   "execution_count": 71,
   "metadata": {},
   "outputs": [],
   "source": [
    "X = data_df.loc[:, data_df.columns != 'Date no']"
   ]
  },
  {
   "cell_type": "code",
   "execution_count": 73,
   "metadata": {},
   "outputs": [],
   "source": [
    "X = X.values\n",
    "y = output_df[\"Traffic\"]"
   ]
  },
  {
   "cell_type": "code",
   "execution_count": 87,
   "metadata": {},
   "outputs": [],
   "source": [
    "from sklearn.model_selection import train_test_split\n",
    "X_train, X_test, y_train, y_test = train_test_split(X, y, test_size=0.33, random_state=42)\n",
    "test_model = regressor.fit(X_train, y_train)\n",
    "y_predicted = test_model.predict(X_test)"
   ]
  },
  {
   "cell_type": "code",
   "execution_count": 88,
   "metadata": {},
   "outputs": [
    {
     "name": "stdout",
     "output_type": "stream",
     "text": [
      "Score: 0.74648599715333\n"
     ]
    }
   ],
   "source": [
    "print (\"Score:\", model.score(X_test, y_test))"
   ]
  },
  {
   "cell_type": "code",
   "execution_count": 89,
   "metadata": {},
   "outputs": [
    {
     "data": {
      "text/plain": [
       "Text(0, 0.5, 'Predictions')"
      ]
     },
     "execution_count": 89,
     "metadata": {},
     "output_type": "execute_result"
    },
    {
     "data": {
      "image/png": "[encoded data removed]",
      "text/plain": [
       "<Figure size 432x288 with 1 Axes>"
      ]
     },
     "metadata": {
      "needs_background": "light"
     },
     "output_type": "display_data"
    }
   ],
   "source": [
    "plt.scatter(y_test, y_predicted)\n",
    "plt.xlabel(\"True Values\")\n",
    "plt.ylabel(\"Predictions\")"
   ]
  },
  {
   "cell_type": "code",
   "execution_count": 44,
   "metadata": {},
   "outputs": [],
   "source": [
    "from sklearn.ensemble import RandomForestRegressor"
   ]
  },
  {
   "cell_type": "code",
   "execution_count": 86,
   "metadata": {},
   "outputs": [],
   "source": [
    "regressor = RandomForestRegressor(n_estimators = 20,random_state = 42)\n",
    "#change the hyperparamete according to your need\n"
   ]
  },
  {
   "cell_type": "code",
   "execution_count": 54,
   "metadata": {},
   "outputs": [],
   "source": [
    "model = regressor.fit(X, y)"
   ]
  },
  {
   "cell_type": "code",
   "execution_count": 55,
   "metadata": {},
   "outputs": [
    {
     "name": "stdout",
     "output_type": "stream",
     "text": [
      "Feature: 0, Score: 0.01137\n",
      "Feature: 1, Score: 0.02059\n",
      "Feature: 2, Score: 0.06851\n",
      "Feature: 3, Score: 0.00498\n",
      "Feature: 4, Score: 0.02948\n",
      "Feature: 5, Score: 0.01749\n",
      "Feature: 6, Score: 0.03235\n",
      "Feature: 7, Score: 0.02875\n",
      "Feature: 8, Score: 0.01695\n",
      "Feature: 9, Score: 0.15721\n",
      "Feature: 10, Score: 0.13859\n",
      "Feature: 11, Score: 0.05892\n",
      "Feature: 12, Score: 0.41481\n"
     ]
    },
    {
     "data": {
      "image/png": "[encoded data removed]",
      "text/plain": [
       "<Figure size 432x288 with 1 Axes>"
      ]
     },
     "metadata": {
      "needs_background": "light"
     },
     "output_type": "display_data"
    }
   ],
   "source": [
    "importance = model.feature_importances_\n",
    "# summarize feature importance\n",
    "for i,v in enumerate(importance):\n",
    "\tprint('Feature: %0d, Score: %.5f' % (i,v))\n",
    "# plot feature importance\n",
    "plt.bar([x for x in range(len(importance))], importance)\n",
    "plt.show()"
   ]
  },
  {
   "cell_type": "code",
   "execution_count": 56,
   "metadata": {},
   "outputs": [],
   "source": [
    "test_df = pd.read_excel(\"Projections_Case Study.xlsx\",sheet_name = \"test_data\")"
   ]
  },
  {
   "cell_type": "code",
   "execution_count": 61,
   "metadata": {},
   "outputs": [],
   "source": [
    "columns_to_delete = ['Tier 1 - Video', 'Tier 1 - Non Video','Tier 2  - Non Video','Tier 5 - Non Video','Tier 7 - Non Video']\n",
    "test_df.drop(columns=columns_to_delete,inplace = True)"
   ]
  },
  {
   "cell_type": "code",
   "execution_count": 63,
   "metadata": {},
   "outputs": [],
   "source": [
    "test_x = test_df.loc[:, test_df.columns != 'Date no']"
   ]
  },
  {
   "cell_type": "code",
   "execution_count": 64,
   "metadata": {},
   "outputs": [],
   "source": [
    "test_x = test_x.values"
   ]
  },
  {
   "cell_type": "code",
   "execution_count": 66,
   "metadata": {},
   "outputs": [],
   "source": [
    "Y_pred = model.predict(test_x)"
   ]
  },
  {
   "cell_type": "code",
   "execution_count": 67,
   "metadata": {},
   "outputs": [
    {
     "name": "stdout",
     "output_type": "stream",
     "text": [
      "[2355346.89 2449361.11 3510124.76 3186964.15 2101638.13 2780160.95\n",
      " 1983040.35 2385669.73 1942755.14 2548098.99 2271513.87 1884189.16\n",
      " 2392591.92 1812915.19 2443335.76]\n"
     ]
    }
   ],
   "source": [
    "print (Y_pred)"
   ]
  }
 ],
 "metadata": {
  "kernelspec": {
   "display_name": "Python 3",
   "language": "python",
   "name": "python3"
  },
  "language_info": {
   "codemirror_mode": {
    "name": "ipython",
    "version": 3
   },
   "file_extension": ".py",
   "mimetype": "text/x-python",
   "name": "python",
   "nbconvert_exporter": "python",
   "pygments_lexer": "ipython3",
   "version": "3.7.1"
  }
 },
 "nbformat": 4,
 "nbformat_minor": 4
}
